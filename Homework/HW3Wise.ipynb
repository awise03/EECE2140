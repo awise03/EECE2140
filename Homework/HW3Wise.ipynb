{
 "cells": [
  {
   "attachments": {},
   "cell_type": "markdown",
   "metadata": {},
   "source": [
    "(Graded) Write a Python function that encodes English-language phrases into a form of coded\n",
    "language called pig Latin. There are many ways to form pig Latin phrases. For simplicity, use\n",
    "the following algorithm: To form a pig Latin phrase from an English-language phrase,\n",
    "tokenize the phrase into words with string method split. To translate each English word\n",
    "into a pig Latin word, place the first letter of the English word at the end of the word and add\n",
    "the letters “ay.” Thus, the word “jump” becomes “umpjay,” the word “the” becomes “hetay,”\n",
    "and the word “computer” becomes “omputercay.” If the word starts with a vowel, just add\n",
    "“ay” at the end of the word. Blanks between words remain as blanks. Assume the following:\n",
    "The English phrase consists of words separated by blanks, there are no punctuation marks,\n",
    "and all words have two or more letters. Enable the user to pass a sentence as the input to the\n",
    "function, then display the sentence in pig Latin."
   ]
  },
  {
   "cell_type": "code",
   "execution_count": 1,
   "metadata": {},
   "outputs": [
    {
     "name": "stdout",
     "output_type": "stream",
     "text": [
      " histay entencesay isay inay igpay atinlay \n"
     ]
    }
   ],
   "source": [
    "def pig_latin(translate):\n",
    "    split_words = translate.split(\" \")\n",
    "    vowels = ('a', 'e', 'i', 'o', 'u')\n",
    "    out_string = ' '\n",
    "    for word in split_words:\n",
    "        if word[0] in vowels:\n",
    "            out_string += (word + 'ay ')\n",
    "        else:\n",
    "            out_string += word[1:] + word[0] + 'ay '\n",
    "    return out_string\n",
    "            \n",
    "to_translate = \"this sentence is in pig latin\"\n",
    "print(pig_latin(to_translate))\n",
    "\n"
   ]
  },
  {
   "attachments": {},
   "cell_type": "markdown",
   "metadata": {},
   "source": [
    "Write a Python function that accepts a five-letter word as its input and produces every\n",
    "possible three-letter string, based on the word’s letters. For example, the three-letter words\n",
    "produced from the word “bathe” include, but are not limited to, “ate,” “bat,” “bet,” “tab,”\n",
    "“hat,” “the,” “tea,” and “aht.”\n",
    "Challenge: Investigate the functions from the itertools module, then use an appropriate\n",
    "function to automate this task."
   ]
  },
  {
   "cell_type": "code",
   "execution_count": 85,
   "metadata": {},
   "outputs": [
    {
     "name": "stdout",
     "output_type": "stream",
     "text": [
      "{'aet', 'hae', 'hba', 'bta', 'bth', 'beh', 'bet', 'tbe', 'eta', 'htb', 'etb', 'eth', 'tah', 'bah', 'bha', 'heb', 'ath', 'eht', 'bae', 'atb', 'hat', 'abt', 'tha', 'tbh', 'tba', 'tae', 'teh', 'het', 'bte', 'tab', 'eba', 'aeb', 'eha', 'ehb', 'ebt', 'bea', 'the', 'abe', 'thb', 'teb', 'abh', 'bhe', 'ate', 'aeh', 'hbt', 'tea', 'eah', 'bat', 'hea', 'ahe', 'ebh', 'hbe', 'hab', 'eab', 'hte', 'bht', 'aht', 'eat', 'hta', 'ahb'}\n"
     ]
    }
   ],
   "source": [
    "def generate(word):\n",
    "    three_letter = set()\n",
    "    for i in range(len(word)):\n",
    "        for j in range(len(word)):\n",
    "            for k in range(len(word)):\n",
    "                if i != j and i != k and j != k:\n",
    "                    three_letter.add(word[i] + word[j] + word[k])\n",
    "    return three_letter\n",
    "\n",
    "print(generate('bathe'))"
   ]
  },
  {
   "attachments": {},
   "cell_type": "markdown",
   "metadata": {},
   "source": [
    "(Graded) Write a Python script that enables the user to enter mathematical word problems\n",
    "like “two times three” and “seven minus five”, then use string processing to break apart the\n",
    "string into the numbers and the operation and return the result. Hence, “two times three”\n",
    "would return 6, and “seven minus five” would return 2. To keep things simple, assume that\n",
    "the user enters only the words for the numbers 0 through 9 and only the operations “plus,”\n",
    "“minus,” “times,” “divided by,” and “raised to.”"
   ]
  },
  {
   "cell_type": "code",
   "execution_count": 2,
   "metadata": {},
   "outputs": [
    {
     "data": {
      "text/plain": [
       "27"
      ]
     },
     "execution_count": 2,
     "metadata": {},
     "output_type": "execute_result"
    }
   ],
   "source": [
    "def do_math(equation):\n",
    "    operation = {'plus': '+', 'minus': '-', 'times':'*', 'divided by': '/', 'raised to': '**'}\n",
    "    numbers = {'zero':'0', 'one': '1', 'two':'2', 'three':'3', 'four':'4', 'five':'5', 'six': '6', 'seven':'7', 'eight': '8', 'nine': '9'}\n",
    "    eq = equation.split()\n",
    "    formula = ' '\n",
    "    for value in eq:\n",
    "        if value in operation:\n",
    "            formula += operation[value]\n",
    "        elif value in numbers:\n",
    "            formula += numbers[value]\n",
    "    return eval(formula)\n",
    "\n",
    "\n",
    "eq = 'nine times three'\n",
    "do_math(eq)"
   ]
  },
  {
   "attachments": {},
   "cell_type": "markdown",
   "metadata": {},
   "source": [
    "(Graded) Write a Python script that assists the user with some common metric-to-English\n",
    "conversions. Your script should allow the user to specify the names of the units as strings\n",
    "(e.g., centimeters, liters, grams, and so on for the metric system and inches, quarts, pounds,\n",
    "and so on for the English system) and should respond to simple questions, such as “How\n",
    "many inches are in 2 meters?” and “How many liters are in 10 quarts?” Your script should\n",
    "recognize invalid conversions. For example, the following question is not meaningful,because “feet” is a unit of length and “kilogram” is a unit of mass: “How many feet are in 5\n",
    "kilograms?”\n",
    "Assume that all questions are in the form shown above. Use string processing to capture the\n",
    "important substrings, such as “inches,” “2,” and “meters” in the first sample question above.\n",
    "Recall that functions int and float can convert strings to numbers. Your solution does not\n",
    "have to be comprehensive of all possible conversions; however, it should give a well-written\n",
    "prototype that could be easily modified to add further functionalities to it."
   ]
  },
  {
   "cell_type": "code",
   "execution_count": 81,
   "metadata": {},
   "outputs": [
    {
     "name": "stdout",
     "output_type": "stream",
     "text": [
      "There are 78.7402 inches in 2.0 meters\n",
      "There are 9.46353 liters in 10.0 quarts\n",
      "There are 11.0231 pounds in 5.0 kilograms\n"
     ]
    }
   ],
   "source": [
    "def calculation(question):\n",
    "    # Define conversion factors\n",
    "    conversion = {\n",
    "        ('meters', 'inches'): 39.3701,\n",
    "        ('inches', 'meters'): 0.0254,\n",
    "        ('liters', 'gallons'): 0.264172,\n",
    "        ('gallons', 'liters'): 3.78541,\n",
    "        ('quarts', 'liters'): 0.946353,\n",
    "        ('liters', 'quarts'): 1.05669,\n",
    "        ('cups', 'liters'): 0.236588,\n",
    "        ('liters', 'cups'): 4.22675,\n",
    "        ('kilograms', 'pounds'): 2.20462,\n",
    "        ('pounds', 'kilograms'): 0.453592,\n",
    "        ('yards', 'meters'): 0.9144,\n",
    "        ('meters', 'yards'): 1.09361,\n",
    "        ('feet', 'meters'): 0.3048,\n",
    "        ('meters', 'feet'): 3.28084,\n",
    "        ('inches', 'feet'): 0.0833333,\n",
    "        ('feet', 'inches'): 12,\n",
    "        ('cups', 'quarts'): 0.25,\n",
    "        ('quarts', 'cups'): 4\n",
    "    }\n",
    "\n",
    "    # Define valid units\n",
    "    valid = ['meters', 'inches', 'gallons', 'liters', 'quarts', \n",
    "                'cups', 'pounds', 'kilograms', 'yards', 'feet']\n",
    "\n",
    "    # Split the question into its relevant parts\n",
    "    split_question = question.split()``\n",
    "    value = float(split_question[5])\n",
    "    from_unit = split_question[6][:-1]\n",
    "    to_unit = split_question[2]\n",
    "\n",
    "    # Check if units are valid\n",
    "    if from_unit not in valid or to_unit not in valid:\n",
    "        return 'Invalid units'\n",
    "\n",
    "    # Check if conversion factor is available\n",
    "    if (from_unit, to_unit) not in conversion:\n",
    "        return 'Invalid conversion'\n",
    "\n",
    "    # Perform conversion\n",
    "    factor = conversion[(from_unit, to_unit)]\n",
    "    result = value * factor\n",
    "\n",
    "    return f'There are {result} {to_unit} in {value} {from_unit}'\n",
    "\n",
    "question1 = 'How many inches are in 2 meters?'\n",
    "question2 = 'How many liters are in 10 quarts?'\n",
    "question3 = 'How many pounds are in 5 kilograms?'\n",
    "print(calculation(question1))\n",
    "print(calculation(question2))\n",
    "print(calculation(question3))\n"
   ]
  },
  {
   "attachments": {},
   "cell_type": "markdown",
   "metadata": {},
   "source": [
    "Create a 3-by-3 array 𝐀 containing the even integers from 2 through 18, inclusive. Create a\n",
    "second 3-by-3 array 𝐁 containing the integers from 9 down to 1, inclusive.\n",
    "(a) Raise each element of the first array 𝐀 by 2 and multiply the result by the second array\n",
    "elementwise and matrix-wise.\n",
    "(b) Replace those elements of array 𝐀 in the corresponding positions for which array 𝐁\n",
    "contains a multiple integer of 3 with their squared root values. Replace those elements of\n",
    "array 𝐁 in the corresponding positions for which array 𝐀 contains a multiple integer of 4\n",
    "with their negative values. Multiply the inverse matrix of the result of the first operation\n",
    "to the inverse matrix of the result of the second operation elementwise and matrix-wise."
   ]
  },
  {
   "cell_type": "code",
   "execution_count": null,
   "metadata": {},
   "outputs": [],
   "source": []
  },
  {
   "attachments": {},
   "cell_type": "markdown",
   "metadata": {},
   "source": [
    "(Graded) Let 𝐀 be an 𝑚-by-𝑛 matrix of integer numbers. Write a Python function that accepts\n",
    "matrix 𝐀 as its input and prints the diagonal elements with negative slope, starting from the\n",
    "top-right element.\n",
    "For example, if the 5-by-4 matrix 𝐀 is defined as\n",
    "𝐀 =\n",
    "1 2 3 4\n",
    "5 6 7 8\n",
    "9 10 11 12\n",
    "13 14 15 16\n",
    "17 18 19 20\n",
    "\n",
    "then, the following elements of the matrix must be printed:\n",
    "4\n",
    "3 8\n",
    "2 7 12\n",
    "1 6 11 16\n",
    "5 10 15 20\n",
    "9 14 19\n",
    "13 18\n",
    "17\n",
    "Please use an ndarray datatype produced by the NumPy library in your solution (instead of\n",
    "using a two-dimensional list)."
   ]
  },
  {
   "cell_type": "code",
   "execution_count": 27,
   "metadata": {},
   "outputs": [
    {
     "name": "stdout",
     "output_type": "stream",
     "text": [
      "4\t\n",
      "3\t8\t\n",
      "2\t7\t12\t\n",
      "1\t6\t11\t16\t\n",
      "5\t10\t15\t20\t\n",
      "9\t14\t19\t\n",
      "13\t18\t\n",
      "17\t\n"
     ]
    }
   ],
   "source": [
    "import numpy as np\n",
    "\n",
    "def sloped_print(list):\n",
    "    num_elements = np.size(list)\n",
    "    maxRow, minCol = 0, 3\n",
    "    # Prints the First Half\n",
    "    while(num_elements > np.size(list)/2):\n",
    "        row = 0\n",
    "        for col in range(minCol, 4):\n",
    "            if(row <= maxRow):\n",
    "                print(list[row][col], end = '\\t')  \n",
    "                num_elements -= 1\n",
    "                row += 1\n",
    "        print()\n",
    "        maxRow += 1\n",
    "        minCol -= 1\n",
    "\n",
    "    minRow, maxCol = 1, 3\n",
    "    # Prints the Second Half\n",
    "    while(num_elements > 0):\n",
    "        col = 0\n",
    "        for row in range(minRow, 5):\n",
    "            if(col <= maxCol):\n",
    "                print(list[row][col], end = '\\t')\n",
    "                num_elements -= 1\n",
    "                col += 1\n",
    "        print()\n",
    "        minRow += 1\n",
    "        maxCol -= 1\n",
    "    \n",
    "in_list = np.array([[1, 2, 3, 4], [5, 6, 7, 8],[9, 10, 11, 12],[13, 14, 15, 16], [17, 18, 19, 20]])\n",
    "sloped_print(in_list)"
   ]
  },
  {
   "attachments": {},
   "cell_type": "markdown",
   "metadata": {},
   "source": [
    "(Graded) NumPy arrays offer a mean method, but not a median or mode method.\n",
    "(a) Write Python functions median and mode that use existing NumPy capabilities to\n",
    "determine the median (middle) and mode (most frequent) of the values in an array. Your\n",
    "functions should determine the median and mode values regardless of the array’s shape.\n",
    "Test your function on three arrays of different shapes with random integers.Modify your functions from Part (a) to allow the user to provide an axis keyword\n",
    "argument so that the calculations can be performed row-by-row (by default) or column-\n",
    "by-column on a two-dimensional array."
   ]
  },
  {
   "cell_type": "code",
   "execution_count": 34,
   "metadata": {},
   "outputs": [
    {
     "name": "stdout",
     "output_type": "stream",
     "text": [
      "[[4 2 6 1 3 5 6 6]\n",
      " [3 6 6 2 4 4 5 3]\n",
      " [3 3 6 6 3 3 4 1]\n",
      " [3 1 5 1 4 1 2 6]\n",
      " [2 5 1 2 3 5 2 6]\n",
      " [6 3 4 3 1 5 2 3]\n",
      " [4 5 4 6 3 6 3 5]\n",
      " [1 5 5 1 1 2 1 3]]\n",
      "Median for col 1: 4.0\n",
      "Median for col 2: 4.0\n",
      "Median for col 3: 2.5\n",
      "Median for col 4: 2.5\n",
      "Median for col 5: 2.0\n",
      "Median for col 6: 5.0\n",
      "Median for col 7: 2.0\n",
      "Median for col 8: 4.5\n",
      "The mode for Row 1 is 6 with a frequency of 3\n",
      "The mode for Row 2 is 3 with a frequency of 2\n",
      "The mode for Row 3 is 3 with a frequency of 4\n",
      "The mode for Row 4 is 1 with a frequency of 3\n",
      "The mode for Row 5 is 2 with a frequency of 3\n",
      "The mode for Row 6 is 3 with a frequency of 3\n",
      "The mode for Row 7 is 3 with a frequency of 2\n",
      "The mode for Row 8 is 1 with a frequency of 4\n",
      "[[1 6 4 5 2 4 6 6 4]\n",
      " [5 4 1 1 3 3 1 5 4]]\n",
      "Median for row 1: 2\n",
      "Median for row 2: 3\n",
      "The mode for Column 1 is 1 with a frequency of 1\n",
      "The mode for Column 2 is 4 with a frequency of 1\n",
      "The mode for Column 3 is 1 with a frequency of 1\n",
      "The mode for Column 4 is 1 with a frequency of 1\n",
      "The mode for Column 5 is 2 with a frequency of 1\n",
      "The mode for Column 6 is 3 with a frequency of 1\n",
      "The mode for Column 7 is 1 with a frequency of 1\n",
      "The mode for Column 8 is 5 with a frequency of 1\n",
      "The mode for Column 9 is 4 with a frequency of 2\n",
      "[[2 4]\n",
      " [4 1]\n",
      " [1 5]\n",
      " [5 6]\n",
      " [3 4]\n",
      " [1 3]\n",
      " [6 5]]\n",
      "Median for col 1: 5\n",
      "Median for col 2: 6\n",
      "The mode for Row 1 is 2 with a frequency of 1\n",
      "The mode for Row 2 is 1 with a frequency of 1\n",
      "The mode for Row 3 is 1 with a frequency of 1\n",
      "The mode for Row 4 is 5 with a frequency of 1\n",
      "The mode for Row 5 is 3 with a frequency of 1\n",
      "The mode for Row 6 is 1 with a frequency of 1\n",
      "The mode for Row 7 is 5 with a frequency of 1\n"
     ]
    }
   ],
   "source": [
    "import numpy as np\n",
    "\n",
    "def median(in_list, axis = 'row'):\n",
    "    in_list = np.array(in_list)\n",
    "    if axis == 'col':\n",
    "        in_list = in_list.transpose()\n",
    "\n",
    "    for row in range(len(in_list)):\n",
    "        if len(in_list[row]) > 0:\n",
    "            mid_index = len(in_list[row])//2\n",
    "            if(axis == 'col'):\n",
    "                if len(in_list[row]) % 2 == 0:\n",
    "                    median = (in_list[row][mid_index + 1] + in_list[row][mid_index]) / 2\n",
    "                    print(f'Median for col {row + 1}: {median}') \n",
    "                else:\n",
    "                    print(f'Median for col {row + 1}: {in_list[row][mid_index]}')\n",
    "            else:\n",
    "                if len(in_list[row]) % 2 == 0:\n",
    "                    median = (in_list[row][mid_index + 1] + in_list[row][mid_index]) / 2\n",
    "                    print(f'Median for row {row + 1}: {median}') \n",
    "                else:\n",
    "                    print(f'Median for row {row + 1}: {in_list[row][mid_index]}') \n",
    "\n",
    "def mode(in_list, axis = 'row'):\n",
    "    if axis == 'col':\n",
    "        in_list = in_list.transpose()\n",
    "    \n",
    "    max_row_length = max(len(row) for row in in_list)\n",
    "    for row in range(len(in_list)):\n",
    "        values = set()\n",
    "        frequency = {}\n",
    "        for col in range(max_row_length):\n",
    "            values.add(in_list[row][col])\n",
    "        for val in values:\n",
    "            frequency[val] = 0\n",
    "        for val in in_list[row]:\n",
    "            if val in values:\n",
    "                frequency[val] += 1\n",
    "        max_value = -10000\n",
    "        max_key = 0\n",
    "        for key, value in frequency.items():\n",
    "            if value > max_value:\n",
    "                max_value = value\n",
    "                max_key = key\n",
    "        if(axis == 'col'):\n",
    "            print(f'The mode for Column {row + 1} is {max_key} with a frequency of {max_value}')\n",
    "        else:\n",
    "            print(f'The mode for Row {row + 1} is {max_key} with a frequency of {max_value}')\n",
    "\n",
    "                \n",
    "            \n",
    "\n",
    "rows = np.random.randint(2, 10)\n",
    "cols = np.random.randint(2, 10)\n",
    "random_array1 = np.random.randint(1, 7, size = (rows, cols))\n",
    "print(random_array1)\n",
    "\n",
    "median(random_array1, 'col')\n",
    "mode(random_array1)\n",
    "\n",
    "rows = np.random.randint(2, 10)\n",
    "cols = np.random.randint(2, 10)\n",
    "random_array2 = np.random.randint(1, 7, size = (rows, cols))\n",
    "print(random_array2)\n",
    "\n",
    "median(random_array2)\n",
    "mode(random_array2, 'col')\n",
    "\n",
    "rows = np.random.randint(2, 10)\n",
    "cols = np.random.randint(2, 10)\n",
    "random_array3 = np.random.randint(1, 7, size = (rows, cols))\n",
    "print(random_array3)\n",
    "\n",
    "median(random_array3, 'col')\n",
    "mode(random_array3)\n",
    "\n",
    "\n",
    "\n"
   ]
  }
 ],
 "metadata": {
  "kernelspec": {
   "display_name": "Python 3",
   "language": "python",
   "name": "python3"
  },
  "language_info": {
   "codemirror_mode": {
    "name": "ipython",
    "version": 3
   },
   "file_extension": ".py",
   "mimetype": "text/x-python",
   "name": "python",
   "nbconvert_exporter": "python",
   "pygments_lexer": "ipython3",
   "version": "3.11.1"
  },
  "orig_nbformat": 4
 },
 "nbformat": 4,
 "nbformat_minor": 2
}
